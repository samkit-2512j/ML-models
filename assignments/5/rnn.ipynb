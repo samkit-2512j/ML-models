{
 "cells": [
  {
   "cell_type": "code",
   "execution_count": 96,
   "metadata": {},
   "outputs": [],
   "source": [
    "import torch\n",
    "import numpy as np\n",
    "import pandas as pd\n",
    "import random\n",
    "import torch.nn as nn\n",
    "import torch.optim as optim\n",
    "from sklearn.model_selection import train_test_split\n",
    "from torch.utils.data import Dataset, DataLoader\n",
    "from PIL import Image, ImageDraw, ImageFont\n",
    "import nltk\n",
    "from nltk.corpus import words\n",
    "import os\n",
    "import sys\n",
    "sys.path.append(os.path.abspath(os.path.join(os.getcwd(), '../..')))\n",
    "import torch.nn.functional as F\n",
    "import matplotlib.pyplot as plt"
   ]
  },
  {
   "cell_type": "code",
   "execution_count": 97,
   "metadata": {},
   "outputs": [],
   "source": [
    "def generate_dataset(num_sequences=100000, max_length=16):\n",
    "    dataset = []\n",
    "\n",
    "    for _ in range(num_sequences):\n",
    "        length = random.randint(1, max_length)  \n",
    "        sequence = [random.randint(0, 1) for _ in range(length)]  \n",
    "        sequence = np.array(np.pad(sequence, (0, max_length - len(sequence)), 'constant'))\n",
    "        count_of_ones = sum(sequence)  \n",
    "        dataset.append([sequence, count_of_ones])      \n",
    "\n",
    "    return dataset"
   ]
  },
  {
   "cell_type": "code",
   "execution_count": 98,
   "metadata": {},
   "outputs": [
    {
     "name": "stdout",
     "output_type": "stream",
     "text": [
      "Sequence: [0 1 1 0 0 1 1 0 0 0 0 0 0 0 0 0], Count of '1's: 4\n",
      "Sequence: [0 0 0 0 1 1 0 1 0 0 0 0 0 0 0 0], Count of '1's: 3\n",
      "Sequence: [1 1 0 0 1 1 1 0 1 1 1 0 1 0 0 0], Count of '1's: 9\n",
      "Sequence: [1 1 0 1 0 0 0 0 0 1 0 0 0 0 0 0], Count of '1's: 4\n",
      "Sequence: [0 0 1 0 0 1 0 1 0 0 0 1 1 1 1 0], Count of '1's: 7\n"
     ]
    }
   ],
   "source": [
    "dataset = generate_dataset()\n",
    "for seq, count in dataset[:5]:\n",
    "    print(f\"Sequence: {seq}, Count of '1's: {count}\")"
   ]
  },
  {
   "cell_type": "code",
   "execution_count": 100,
   "metadata": {},
   "outputs": [
    {
     "data": {
      "text/plain": [
       "device(type='cuda')"
      ]
     },
     "execution_count": 100,
     "metadata": {},
     "output_type": "execute_result"
    }
   ],
   "source": [
    "torch.device('cuda' if torch.cuda.is_available() else 'cpu')"
   ]
  },
  {
   "cell_type": "code",
   "execution_count": 101,
   "metadata": {},
   "outputs": [
    {
     "name": "stdout",
     "output_type": "stream",
     "text": [
      "80000 10000 10000\n"
     ]
    }
   ],
   "source": [
    "train_data, test_data= train_test_split(dataset, test_size=0.2, random_state=42)\n",
    "\n",
    "test_data, val_data = train_test_split(test_data, test_size=0.5, random_state=42)\n",
    "print(len(train_data),len(test_data),len(val_data))"
   ]
  },
  {
   "cell_type": "code",
   "execution_count": 102,
   "metadata": {},
   "outputs": [],
   "source": [
    "class createDataset(torch.utils.data.Dataset):\n",
    "    def __init__(self, data, max_length = 16):\n",
    "        self.data = data\n",
    "        self.max_length = max_length\n",
    "\n",
    "    def __len__(self):\n",
    "        return len(self.data)\n",
    "\n",
    "    def __getitem__(self, idx):\n",
    "        sequence, count_of_ones = self.data[idx]\n",
    "        # sequence = sequence + [0] * (self.max_length - len(sequence))\n",
    "        return torch.tensor(sequence, dtype=torch.float32), torch.tensor(count_of_ones, dtype=torch.float32)\n",
    "\n",
    "\n",
    "train_dataset = createDataset(train_data)\n",
    "val_dataset = createDataset(val_data)\n",
    "test_dataset = createDataset(test_data)\n",
    "\n",
    "train_loader = torch.utils.data.DataLoader(train_dataset, batch_size=32, shuffle=True)\n",
    "val_loader = torch.utils.data.DataLoader(val_dataset, batch_size=32, shuffle=False)\n",
    "test_loader = torch.utils.data.DataLoader(test_dataset, batch_size=32, shuffle=True)\n"
   ]
  },
  {
   "cell_type": "code",
   "execution_count": 103,
   "metadata": {},
   "outputs": [],
   "source": [
    "class RNNModel(nn.Module):\n",
    "    def __init__(self, input_size=1, hidden_size=64, num_layers=1, activation = 'relu', dropout = 0):\n",
    "        super(RNNModel, self).__init__()\n",
    "        self.rnn = nn.RNN(input_size, hidden_size, num_layers, batch_first=True, nonlinearity=activation,dropout=dropout)\n",
    "        self.fc = nn.Linear(hidden_size, 1)  \n",
    "\n",
    "    def forward(self, x):\n",
    "        h0 = torch.zeros(1, x.size(0), 64).to(x.device)  \n",
    "        out, _ = self.rnn(x.unsqueeze(-1), h0)  \n",
    "        out = out[:, -1, :]  \n",
    "        out = self.fc(out)  \n",
    "        return out.squeeze(-1)\n",
    "    \n",
    "    def train_model(self, train_loader, val_loader, epochs = 10, device = 'cuda'):\n",
    "        criterion = nn.MSELoss()\n",
    "        optimizer = optim.Adam(self.parameters(), lr=0.001)\n",
    "        for epoch in range(epochs):\n",
    "            train_loss = self._train_model(train_loader, criterion, optimizer, device)\n",
    "            val_loss, val_mae = self.validate(val_loader, device)\n",
    "            print(f\"Epoch {epoch+1}/{epochs}, Train Loss: {train_loss:.4f}, Val Loss: {val_loss:.4f}, Val MAE: {val_mae:.4f}\")\n",
    "    \n",
    "    def _train_model(self,train_loader, criterion, optimizer, device):\n",
    "        self.train()\n",
    "        running_loss = 0.0\n",
    "        for i, (sequences, counts) in enumerate(train_loader):\n",
    "            sequences, counts = sequences.to(device), counts.to(device)\n",
    "            \n",
    "            optimizer.zero_grad()\n",
    "\n",
    "            outputs = self(sequences)\n",
    "            loss = criterion(outputs, counts)\n",
    "\n",
    "            loss.backward()\n",
    "            optimizer.step()\n",
    "\n",
    "            running_loss += loss.item()\n",
    "\n",
    "        return running_loss / len(train_loader)\n",
    "    \n",
    "    def validate(self, val_loader, device):\n",
    "        self.eval()\n",
    "        running_loss = 0.0\n",
    "        total_absolute_error = 0.0\n",
    "        criterion = nn.MSELoss()\n",
    "        optimizer = optim.Adam(self.parameters(), lr=0.001)\n",
    "        with torch.no_grad():\n",
    "            for sequences, counts in val_loader:\n",
    "                sequences, counts = sequences.to(device), counts.to(device)\n",
    "\n",
    "                outputs = self(sequences)\n",
    "                loss = criterion(outputs, counts)\n",
    "\n",
    "                running_loss += loss.item()\n",
    "                total_absolute_error += torch.sum(torch.abs(outputs - counts)).item()\n",
    "\n",
    "        val_loss = running_loss / len(val_loader)\n",
    "        mae = total_absolute_error / len(val_loader.dataset)  # Mean Absolute Error\n",
    "        return val_loss, mae\n",
    "    \n",
    "    def eval_length(self, val_loader, device):\n",
    "        self.eval()\n",
    "        running_loss = 0.0\n",
    "        total_absolute_error = 0.0\n",
    "        criterion = nn.MSELoss()\n",
    "        seq_length_mae =np.zeros(32)\n",
    "\n",
    "        with torch.no_grad():\n",
    "            for sequences, counts in val_loader:\n",
    "                sequences, counts = sequences.to(device), counts.to(device)\n",
    "\n",
    "                sequence_lengths = torch.sum(sequences != 0, dim=1).cpu().numpy()  # Assuming padded sequences\n",
    "\n",
    "                outputs = self(sequences)\n",
    "                loss = criterion(outputs, counts)\n",
    "\n",
    "                running_loss += loss.item()\n",
    "\n",
    "                absolute_errors = torch.abs(outputs - counts).cpu().numpy()\n",
    "\n",
    "                for seq_len, abs_error in zip(sequence_lengths, absolute_errors):\n",
    "                    seq_length_mae[seq_len - 1]+= abs_error\n",
    "\n",
    "        for i in range(32):\n",
    "            seq_length_mae[i] = seq_length_mae[i]/(i+1)\n",
    "\n",
    "        val_loss = running_loss / len(val_loader)\n",
    "        mae = total_absolute_error / len(val_loader.dataset)\n",
    "\n",
    "        return val_loss, mae, seq_length_mae\n"
   ]
  },
  {
   "cell_type": "code",
   "execution_count": 112,
   "metadata": {},
   "outputs": [],
   "source": [
    "def calculate_accuracy(model, test_loader, device):\n",
    "    model.eval()\n",
    "    correct_predictions = 0\n",
    "    total_predictions = 0\n",
    "    test_counts = []\n",
    "    preds = []\n",
    "\n",
    "    with torch.no_grad():  \n",
    "        for sequences, counts in test_loader:\n",
    "            sequences, counts = sequences.to(device), counts.to(device)\n",
    "\n",
    "            padded_sequences = torch.nn.utils.rnn.pad_sequence(sequences, batch_first=True)\n",
    "\n",
    "            outputs = model(padded_sequences)\n",
    "\n",
    "            predicted_counts = torch.round(outputs).long()\n",
    "\n",
    "            preds.append(np.array(predicted_counts.to('cpu')))\n",
    "            test_counts.append(np.array(counts.to('cpu')))\n",
    "\n",
    "            correct_predictions += (predicted_counts == counts).sum().item()\n",
    "            total_predictions += counts.size(0)  # Number of sequences in the batch\n",
    "\n",
    "    accuracy = correct_predictions / total_predictions  # Calculate accuracy\n",
    "    return accuracy, preds, test_counts"
   ]
  },
  {
   "cell_type": "code",
   "execution_count": 113,
   "metadata": {},
   "outputs": [
    {
     "name": "stdout",
     "output_type": "stream",
     "text": [
      "Epoch 1/10, Train Loss: 0.5169, Val Loss: 0.0015, Val MAE: 0.0259\n",
      "Epoch 2/10, Train Loss: 0.0035, Val Loss: 0.0019, Val MAE: 0.0396\n",
      "Epoch 3/10, Train Loss: 0.0057, Val Loss: 0.0001, Val MAE: 0.0068\n",
      "Epoch 4/10, Train Loss: 0.0026, Val Loss: 0.0000, Val MAE: 0.0032\n",
      "Epoch 5/10, Train Loss: 0.0016, Val Loss: 0.0004, Val MAE: 0.0180\n",
      "Epoch 6/10, Train Loss: 0.0025, Val Loss: 0.0001, Val MAE: 0.0064\n",
      "Epoch 7/10, Train Loss: 0.0028, Val Loss: 0.0001, Val MAE: 0.0108\n",
      "Epoch 8/10, Train Loss: 0.0022, Val Loss: 0.0001, Val MAE: 0.0061\n",
      "Epoch 9/10, Train Loss: 0.0017, Val Loss: 0.0000, Val MAE: 0.0054\n",
      "Epoch 10/10, Train Loss: 0.0016, Val Loss: 0.0000, Val MAE: 0.0024\n"
     ]
    }
   ],
   "source": [
    "device = torch.device('cuda' if torch.cuda.is_available() else 'cpu')\n",
    "model = RNNModel().to(device)\n",
    "model.train_model(train_loader, val_loader)"
   ]
  },
  {
   "cell_type": "code",
   "execution_count": 114,
   "metadata": {},
   "outputs": [
    {
     "name": "stdout",
     "output_type": "stream",
     "text": [
      "1 1.0\n",
      "8 8.0\n",
      "3 3.0\n",
      "4 4.0\n",
      "3 3.0\n",
      "7 7.0\n",
      "4 4.0\n",
      "1 1.0\n",
      "1 1.0\n",
      "3 3.0\n",
      "4 4.0\n",
      "8 8.0\n",
      "0 0.0\n",
      "3 3.0\n",
      "3 3.0\n",
      "2 2.0\n",
      "6 6.0\n",
      "2 2.0\n",
      "0 0.0\n",
      "0 0.0\n",
      "9 9.0\n",
      "6 6.0\n",
      "3 3.0\n",
      "6 6.0\n",
      "1 1.0\n",
      "4 4.0\n",
      "7 7.0\n",
      "0 0.0\n",
      "8 8.0\n",
      "4 4.0\n",
      "6 6.0\n",
      "6 6.0\n",
      "Accuracy on test data is:100.0%\n"
     ]
    }
   ],
   "source": [
    "acc, pred, counts = calculate_accuracy(model, test_loader, device)\n",
    "for i in range(len(pred[0])):\n",
    "    print(pred[0][i], counts[0][i])\n",
    "print(f\"Accuracy on test data is:{acc*100}%\")"
   ]
  },
  {
   "cell_type": "code",
   "execution_count": 115,
   "metadata": {},
   "outputs": [],
   "source": [
    "def generalization(model):\n",
    "\n",
    "    sequence_lengths = list(range(1, 33))\n",
    "    maes = [] \n",
    "    \n",
    "    for length in sequence_lengths:\n",
    "        \n",
    "        gen_data = generate_dataset(1000 , length)\n",
    "\n",
    "        test_dataset = createDataset(gen_data, 32)\n",
    "        gen_loader = torch.utils.data.DataLoader(test_dataset, batch_size=32, shuffle=True)\n",
    "\n",
    "        loss, mae = model.validate(gen_loader, device)\n",
    "\n",
    "        maes.append(mae)\n",
    "\n",
    "        print(f\"Avg MAE for sequence length {length} = {mae}\")\n",
    "    \n",
    "    plt.plot(range(1,len(maes)+1), maes, marker='o', linestyle='-')\n",
    "\n",
    "    plt.xlabel(\"Sequence Length\")\n",
    "    plt.ylabel(\"MAE\")\n",
    "    plt.title(\"MAE vs Sequence Lengths\")\n",
    "\n",
    "    plt.grid(True) \n",
    "    plt.show()"
   ]
  },
  {
   "cell_type": "code",
   "execution_count": 116,
   "metadata": {},
   "outputs": [
    {
     "name": "stdout",
     "output_type": "stream",
     "text": [
      "Avg MAE for sequence length 1 = 0.07811737060546875\n",
      "Avg MAE for sequence length 2 = 0.19994195806980133\n",
      "Avg MAE for sequence length 3 = 0.19696737408638001\n",
      "Avg MAE for sequence length 4 = 0.1672132078409195\n",
      "Avg MAE for sequence length 5 = 0.1570675687789917\n",
      "Avg MAE for sequence length 6 = 0.1446179105043411\n",
      "Avg MAE for sequence length 7 = 0.1359300614595413\n",
      "Avg MAE for sequence length 8 = 0.12339608633518219\n",
      "Avg MAE for sequence length 9 = 0.10858013343811035\n",
      "Avg MAE for sequence length 10 = 0.09223966240882873\n",
      "Avg MAE for sequence length 11 = 0.07892099261283875\n",
      "Avg MAE for sequence length 12 = 0.06302166485786438\n",
      "Avg MAE for sequence length 13 = 0.04734290826320648\n",
      "Avg MAE for sequence length 14 = 0.03158728748559952\n",
      "Avg MAE for sequence length 15 = 0.015177821278572083\n",
      "Avg MAE for sequence length 16 = 0.0024881062507629394\n",
      "Avg MAE for sequence length 17 = 0.017026294887065887\n",
      "Avg MAE for sequence length 18 = 0.03346833312511444\n",
      "Avg MAE for sequence length 19 = 0.05036403465270996\n",
      "Avg MAE for sequence length 20 = 0.06618195581436158\n",
      "Avg MAE for sequence length 21 = 0.08403079378604889\n",
      "Avg MAE for sequence length 22 = 0.10068573021888733\n",
      "Avg MAE for sequence length 23 = 0.11520190739631653\n",
      "Avg MAE for sequence length 24 = 0.1303995326757431\n",
      "Avg MAE for sequence length 25 = 0.14962689185142516\n",
      "Avg MAE for sequence length 26 = 0.16730045676231384\n",
      "Avg MAE for sequence length 27 = 0.18190967273712158\n",
      "Avg MAE for sequence length 28 = 0.20063417744636536\n",
      "Avg MAE for sequence length 29 = 0.21596405959129333\n",
      "Avg MAE for sequence length 30 = 0.23131722545623778\n",
      "Avg MAE for sequence length 31 = 0.24735371279716492\n",
      "Avg MAE for sequence length 32 = 0.2645580427646637\n"
     ]
    },
    {
     "data": {
      "image/png": "[encoded data removed]",
      "text/plain": [
       "<Figure size 640x480 with 1 Axes>"
      ]
     },
     "metadata": {},
     "output_type": "display_data"
    }
   ],
   "source": [
    "generalization(model)"
   ]
  },
  {
   "cell_type": "code",
   "execution_count": null,
   "metadata": {},
   "outputs": [],
   "source": []
  }
 ],
 "metadata": {
  "kernelspec": {
   "display_name": "normal",
   "language": "python",
   "name": "python3"
  },
  "language_info": {
   "codemirror_mode": {
    "name": "ipython",
    "version": 3
   },
   "file_extension": ".py",
   "mimetype": "text/x-python",
   "name": "python",
   "nbconvert_exporter": "python",
   "pygments_lexer": "ipython3",
   "version": "3.8.20"
  }
 },
 "nbformat": 4,
 "nbformat_minor": 2
}
